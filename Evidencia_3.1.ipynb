{
  "nbformat": 4,
  "nbformat_minor": 0,
  "metadata": {
    "colab": {
      "provenance": [],
      "authorship_tag": "ABX9TyNbFnco+D1tBycv/AzKQHR0",
      "include_colab_link": true
    },
    "kernelspec": {
      "name": "python3",
      "display_name": "Python 3"
    },
    "language_info": {
      "name": "python"
    }
  },
  "cells": [
    {
      "cell_type": "markdown",
      "metadata": {
        "id": "view-in-github",
        "colab_type": "text"
      },
      "source": [
        "<a href=\"https://colab.research.google.com/github/JuanDaniel284/progra_python/blob/main/Evidencia_3.1.ipynb\" target=\"_parent\"><img src=\"https://colab.research.google.com/assets/colab-badge.svg\" alt=\"Open In Colab\"/></a>"
      ]
    },
    {
      "cell_type": "code",
      "execution_count": 3,
      "metadata": {
        "colab": {
          "base_uri": "https://localhost:8080/"
        },
        "id": "4dv63qCH-hEu",
        "outputId": "d92068ca-f7f6-417a-af26-f1e6a466b658"
      },
      "outputs": [
        {
          "output_type": "stream",
          "name": "stdout",
          "text": [
            "Objeto serializado y almacenado en mi_objeto.pickle\n",
            "\n",
            "Objeto original:\n",
            "Nombre: Daniel, Edad: 19\n",
            "\n",
            "Objeto recuperado:\n",
            "Nombre: Daniel, Edad: 19\n"
          ]
        }
      ],
      "source": [
        "import pickle\n",
        "\n",
        "# Definir una clase simple para representar un objeto\n",
        "class MiObjeto:\n",
        "    def __init__(self, nombre, edad):\n",
        "        self.nombre = nombre\n",
        "        self.edad = edad\n",
        "\n",
        "# Función para serializar y almacenar el objeto en un archivo binario\n",
        "def serializar_objeto(objeto, nombre_archivo):\n",
        "    with open(nombre_archivo, 'wb') as archivo:\n",
        "        pickle.dump(objeto, archivo)\n",
        "    print(f\"Objeto serializado y almacenado en {nombre_archivo}\")\n",
        "\n",
        "# Función para cargar y deserializar el objeto desde el archivo binario\n",
        "def deserializar_objeto(nombre_archivo):\n",
        "    with open(nombre_archivo, 'rb') as archivo:\n",
        "        objeto_recuperado = pickle.load(archivo)\n",
        "    return objeto_recuperado\n",
        "\n",
        "# Crear un objeto\n",
        "mi_objeto = MiObjeto(nombre=\"Daniel\", edad=19)\n",
        "\n",
        "# Serializar y almacenar el objeto en un archivo pickle\n",
        "nombre_archivo_pickle = \"mi_objeto.pickle\"\n",
        "serializar_objeto(mi_objeto, nombre_archivo_pickle)\n",
        "\n",
        "# Deserializar y recuperar el objeto desde el archivo pickle\n",
        "objeto_recuperado = deserializar_objeto(nombre_archivo_pickle)\n",
        "\n",
        "# Mostrar el objeto original y el objeto recuperado\n",
        "print(\"\\nObjeto original:\")\n",
        "print(f\"Nombre: {mi_objeto.nombre}, Edad: {mi_objeto.edad}\")\n",
        "\n",
        "print(\"\\nObjeto recuperado:\")\n",
        "print(f\"Nombre: {objeto_recuperado.nombre}, Edad: {objeto_recuperado.edad}\")\n"
      ]
    }
  ]
}