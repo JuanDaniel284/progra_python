{
  "nbformat": 4,
  "nbformat_minor": 0,
  "metadata": {
    "colab": {
      "provenance": [],
      "authorship_tag": "ABX9TyP1PkRjOmjhd3OdHnHq5YAV",
      "include_colab_link": true
    },
    "kernelspec": {
      "name": "python3",
      "display_name": "Python 3"
    },
    "language_info": {
      "name": "python"
    }
  },
  "cells": [
    {
      "cell_type": "markdown",
      "metadata": {
        "id": "view-in-github",
        "colab_type": "text"
      },
      "source": [
        "<a href=\"https://colab.research.google.com/github/JuanDaniel284/progra_python/blob/main/Evidencia_2.1.ipynb\" target=\"_parent\"><img src=\"https://colab.research.google.com/assets/colab-badge.svg\" alt=\"Open In Colab\"/></a>"
      ]
    },
    {
      "cell_type": "code",
      "execution_count": null,
      "metadata": {
        "colab": {
          "base_uri": "https://localhost:8080/"
        },
        "id": "ftVia2Gu3z-e",
        "outputId": "19ba94af-63db-4422-9efc-e2e75ec1cebd"
      },
      "outputs": [
        {
          "output_type": "stream",
          "name": "stdout",
          "text": [
            "Nombre: Daniel\n",
            "Edad: 19\n",
            "Género: Masculino\n",
            "Hola, soy Daniel y tengo 19 años.\n"
          ]
        }
      ],
      "source": [
        "# Definir la clase Persona sin el uso de property-decorator\n",
        "class Persona:\n",
        "    def __init__(self, nombre, edad, genero):\n",
        "        self._nombre = nombre\n",
        "        self._edad = edad\n",
        "        self._genero = genero\n",
        "\n",
        "    # Método para obtener el nombre\n",
        "    def get_nombre(self):\n",
        "        return self._nombre\n",
        "\n",
        "    # Método para obtener la edad\n",
        "    def get_edad(self):\n",
        "        return self._edad\n",
        "\n",
        "    # Método para obtener el género\n",
        "    def get_genero(self):\n",
        "        return self._genero\n",
        "\n",
        "    # Método para saludar\n",
        "    def saludar(self):\n",
        "        print(f\"Hola, soy {self._nombre} y tengo {self._edad} años.\")\n",
        "\n",
        "# Demostración de uso\n",
        "# Crear una instancia de la clase Persona\n",
        "persona1 = Persona(\"Daniel\", 19, \"Masculino\")\n",
        "\n",
        "# Acceder a los métodos para obtener los atributos\n",
        "print(f\"Nombre: {persona1.get_nombre()}\")\n",
        "print(f\"Edad: {persona1.get_edad()}\")\n",
        "print(f\"Género: {persona1.get_genero()}\")\n",
        "\n",
        "# Llamar al método saludar\n",
        "persona1.saludar()"
      ]
    }
  ]
}